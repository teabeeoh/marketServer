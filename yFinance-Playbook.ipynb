{
 "cells": [
  {
   "metadata": {},
   "cell_type": "raw",
   "source": "",
   "id": "454bd53f78852ed5"
  },
  {
   "metadata": {},
   "cell_type": "markdown",
   "source": [
    "# yFinance Playground\n",
    "Kurs eines einzelnen Wertpapierts (Ticker-Symbols):"
   ],
   "id": "ac90001ee6160f3d"
  },
  {
   "metadata": {
    "ExecuteTime": {
     "end_time": "2025-06-01T16:47:53.432837Z",
     "start_time": "2025-06-01T16:47:52.475890Z"
    }
   },
   "cell_type": "code",
   "source": [
    "from types import MethodDescriptorType\n",
    "\n",
    "import yfinance as yf\n",
    "\n",
    "symbol = \"AAPL\"  # Beispiel: Apple\n",
    "ticker = yf.Ticker(symbol)\n",
    "current_price = ticker.info['currentPrice']\n",
    "print(f\"Aktueller Kurs von {symbol}: {current_price}\")\n"
   ],
   "id": "83c893c84ca112f3",
   "outputs": [
    {
     "name": "stdout",
     "output_type": "stream",
     "text": [
      "Aktueller Kurs von AAPL: 200.85\n"
     ]
    }
   ],
   "execution_count": 1
  },
  {
   "metadata": {},
   "cell_type": "markdown",
   "source": "Kurs mit Währung",
   "id": "cf9c3388a7906001"
  },
  {
   "metadata": {
    "ExecuteTime": {
     "end_time": "2025-06-01T16:48:05.600486Z",
     "start_time": "2025-06-01T16:48:05.401391Z"
    }
   },
   "cell_type": "code",
   "source": [
    "import yfinance\n",
    "\n",
    "ticker = yfinance.Ticker('MSF.DE')\n",
    "daten = ticker.info\n",
    "print(f'{daten[\"regularMarketPrice\"]} {daten[\"currency\"]}')"
   ],
   "id": "d26cdd018cf12548",
   "outputs": [
    {
     "name": "stdout",
     "output_type": "stream",
     "text": [
      "404.05 EUR\n"
     ]
    }
   ],
   "execution_count": 2
  },
  {
   "metadata": {},
   "cell_type": "markdown",
   "source": "Mehrere Ticker-Symbole mit Kursen und Währung (als Einzelaufruf)",
   "id": "9e67fbe48ec3377d"
  },
  {
   "metadata": {
    "ExecuteTime": {
     "end_time": "2025-06-01T16:48:24.833007Z",
     "start_time": "2025-06-01T16:48:23.154413Z"
    }
   },
   "cell_type": "code",
   "source": [
    "import yfinance as yf\n",
    "import json\n",
    "\n",
    "# Liste der gewünschten Ticker-Symbole\n",
    "symbole = ['MSF.DE', 'BAS.DE', 'ALV.DE', 'NESN.SW', 'CVX']\n",
    "\n",
    "# Dictionary für die Ergebnisse\n",
    "daten = {}\n",
    "\n",
    "for symbol in symbole:\n",
    "    ticker = yf.Ticker(symbol)\n",
    "    info = ticker.info\n",
    "    kurs = info.get(\"currentPrice\")\n",
    "    waehrung = info.get(\"currency\")\n",
    "    daten[symbol] = {\n",
    "        \"price\": kurs,\n",
    "        \"currency\": waehrung\n",
    "    }\n",
    "\n",
    "# Ausgabe als JSON-Objekt (schön formatiert)\n",
    "print(json.dumps(daten, indent=2, ensure_ascii=False))"
   ],
   "id": "869848f385e4a654",
   "outputs": [
    {
     "name": "stdout",
     "output_type": "stream",
     "text": [
      "{\n",
      "  \"MSF.DE\": {\n",
      "    \"price\": 404.05,\n",
      "    \"currency\": \"EUR\"\n",
      "  },\n",
      "  \"BAS.DE\": {\n",
      "    \"price\": 42.4,\n",
      "    \"currency\": \"EUR\"\n",
      "  },\n",
      "  \"ALV.DE\": {\n",
      "    \"price\": 348.7,\n",
      "    \"currency\": \"EUR\"\n",
      "  },\n",
      "  \"NESN.SW\": {\n",
      "    \"price\": 87.7,\n",
      "    \"currency\": \"CHF\"\n",
      "  },\n",
      "  \"CVX\": {\n",
      "    \"price\": 136.7,\n",
      "    \"currency\": \"USD\"\n",
      "  }\n",
      "}\n"
     ]
    }
   ],
   "execution_count": 3
  },
  {
   "metadata": {},
   "cell_type": "markdown",
   "source": "Aufruf über TICKERS-Methode",
   "id": "fe5b0b9060c80c06"
  },
  {
   "metadata": {
    "ExecuteTime": {
     "end_time": "2025-06-01T16:50:46.129022Z",
     "start_time": "2025-06-01T16:50:45.364204Z"
    }
   },
   "cell_type": "code",
   "source": [
    "import yfinance as yf\n",
    "import json\n",
    "\n",
    "# Liste der gewünschten Ticker-Symbole (Beispiel)\n",
    "symbole = ['MSF.DE', 'BAS.DE', 'ALV.DE', 'NESN.SW', 'CVX']\n",
    "\n",
    "# Tickers-Objekt erstellen (Achtung: Plural!)\n",
    "tickers = yf.Tickers(\" \".join(symbole))\n",
    "\n",
    "# Dictionary für die Ergebnisse\n",
    "daten = {}\n",
    "\n",
    "for symbol in symbole:\n",
    "    info = tickers.tickers[symbol].info\n",
    "    kurs = info.get(\"currentPrice\")\n",
    "    waehrung = info.get(\"currency\")\n",
    "    daten[symbol] = {\n",
    "        \"price\": kurs,\n",
    "        \"currency\": waehrung\n",
    "    }\n",
    "\n",
    "# Ausgabe als JSON-Objekt (schön formatiert)\n",
    "print(json.dumps(daten, indent=2, ensure_ascii=False))\n"
   ],
   "id": "991b4d7efb04b0d3",
   "outputs": [
    {
     "name": "stdout",
     "output_type": "stream",
     "text": [
      "{\n",
      "  \"MSF.DE\": {\n",
      "    \"price\": 404.05,\n",
      "    \"currency\": \"EUR\"\n",
      "  },\n",
      "  \"BAS.DE\": {\n",
      "    \"price\": 42.4,\n",
      "    \"currency\": \"EUR\"\n",
      "  },\n",
      "  \"ALV.DE\": {\n",
      "    \"price\": 348.7,\n",
      "    \"currency\": \"EUR\"\n",
      "  },\n",
      "  \"NESN.SW\": {\n",
      "    \"price\": 87.7,\n",
      "    \"currency\": \"CHF\"\n",
      "  },\n",
      "  \"CVX\": {\n",
      "    \"price\": 136.7,\n",
      "    \"currency\": \"USD\"\n",
      "  }\n",
      "}\n"
     ]
    }
   ],
   "execution_count": 5
  },
  {
   "metadata": {},
   "cell_type": "markdown",
   "source": [
    "docker build -t market_server .\n",
    "docker run -p 8080:8080 market_server## Docker-Container\n",
    "Build and run the Docker container with the following commands:\n",
    "```bash\n",
    "docker build -t teabeeoh/market_server .\n",
    "docker run -p 9000:9000 --rm --name market-server teabeeoh/market_server\n",
    "```"
   ],
   "id": "b421374d0e604ad7"
  },
  {
   "metadata": {},
   "cell_type": "markdown",
   "source": [
    "Server mit Gunicorn starten\n",
    "```bash\n",
    "gunicorn -w 4 -b 0.0.0.0:8000 wsgi:app\n",
    "```"
   ],
   "id": "6cac1c1a22bf5763"
  }
 ],
 "metadata": {
  "kernelspec": {
   "display_name": "Python 3",
   "language": "python",
   "name": "python3"
  },
  "language_info": {
   "codemirror_mode": {
    "name": "ipython",
    "version": 2
   },
   "file_extension": ".py",
   "mimetype": "text/x-python",
   "name": "python",
   "nbconvert_exporter": "python",
   "pygments_lexer": "ipython2",
   "version": "2.7.6"
  }
 },
 "nbformat": 4,
 "nbformat_minor": 5
}
